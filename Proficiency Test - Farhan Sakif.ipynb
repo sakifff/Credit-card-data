{
 "cells": [
  {
   "cell_type": "markdown",
   "id": "6b59296f",
   "metadata": {},
   "source": [
    "# Proficiency Test\n",
    "\n",
    "#### Farhan Sakif (farhan.sakif@gmail.com)"
   ]
  },
  {
   "cell_type": "code",
   "execution_count": 2,
   "id": "caeff628",
   "metadata": {},
   "outputs": [],
   "source": [
    "import pandas as pd\n",
    "import numpy as np\n",
    "import warnings\n",
    "warnings.filterwarnings(\"ignore\")"
   ]
  },
  {
   "cell_type": "code",
   "execution_count": 3,
   "id": "fb8de941",
   "metadata": {},
   "outputs": [],
   "source": [
    "url = 'https://github.com/sakifff/Credit-card-data/blob/main/Recruiting%20Task%20Dataset.xlsx?raw=true'\n",
    "\n",
    "df = pd.read_excel(url)"
   ]
  },
  {
   "cell_type": "code",
   "execution_count": 7,
   "id": "5bc5c7c8",
   "metadata": {},
   "outputs": [
    {
     "data": {
      "text/html": [
       "<div>\n",
       "<style scoped>\n",
       "    .dataframe tbody tr th:only-of-type {\n",
       "        vertical-align: middle;\n",
       "    }\n",
       "\n",
       "    .dataframe tbody tr th {\n",
       "        vertical-align: top;\n",
       "    }\n",
       "\n",
       "    .dataframe thead th {\n",
       "        text-align: right;\n",
       "    }\n",
       "</style>\n",
       "<table border=\"1\" class=\"dataframe\">\n",
       "  <thead>\n",
       "    <tr style=\"text-align: right;\">\n",
       "      <th></th>\n",
       "      <th>Appr?</th>\n",
       "      <th>CustomerID</th>\n",
       "      <th>Co Website</th>\n",
       "      <th>Processing Co</th>\n",
       "      <th>Issuing Bank</th>\n",
       "      <th>Amount</th>\n",
       "      <th>Attempt Timestamp</th>\n",
       "    </tr>\n",
       "  </thead>\n",
       "  <tbody>\n",
       "    <tr>\n",
       "      <th>0</th>\n",
       "      <td>1</td>\n",
       "      <td>154838</td>\n",
       "      <td>14</td>\n",
       "      <td>203</td>\n",
       "      <td>BANK1000</td>\n",
       "      <td>500.0</td>\n",
       "      <td>2021-09-26 23:56:00</td>\n",
       "    </tr>\n",
       "    <tr>\n",
       "      <th>1</th>\n",
       "      <td>1</td>\n",
       "      <td>154587</td>\n",
       "      <td>14</td>\n",
       "      <td>190</td>\n",
       "      <td>BANK1017</td>\n",
       "      <td>100.0</td>\n",
       "      <td>2021-09-26 23:53:00</td>\n",
       "    </tr>\n",
       "    <tr>\n",
       "      <th>2</th>\n",
       "      <td>0</td>\n",
       "      <td>143623</td>\n",
       "      <td>23</td>\n",
       "      <td>204</td>\n",
       "      <td>BANK1013</td>\n",
       "      <td>90.0</td>\n",
       "      <td>2021-09-26 23:46:00</td>\n",
       "    </tr>\n",
       "    <tr>\n",
       "      <th>3</th>\n",
       "      <td>1</td>\n",
       "      <td>154435</td>\n",
       "      <td>23</td>\n",
       "      <td>103</td>\n",
       "      <td>BANK1139</td>\n",
       "      <td>25.0</td>\n",
       "      <td>2021-09-26 23:38:00</td>\n",
       "    </tr>\n",
       "    <tr>\n",
       "      <th>4</th>\n",
       "      <td>0</td>\n",
       "      <td>155195</td>\n",
       "      <td>18</td>\n",
       "      <td>109</td>\n",
       "      <td>BANK1016</td>\n",
       "      <td>60.0</td>\n",
       "      <td>2021-09-26 23:29:00</td>\n",
       "    </tr>\n",
       "  </tbody>\n",
       "</table>\n",
       "</div>"
      ],
      "text/plain": [
       "   Appr?  CustomerID  Co Website  Processing Co Issuing Bank  Amount  \\\n",
       "0      1      154838          14            203     BANK1000   500.0   \n",
       "1      1      154587          14            190     BANK1017   100.0   \n",
       "2      0      143623          23            204     BANK1013    90.0   \n",
       "3      1      154435          23            103     BANK1139    25.0   \n",
       "4      0      155195          18            109     BANK1016    60.0   \n",
       "\n",
       "    Attempt Timestamp  \n",
       "0 2021-09-26 23:56:00  \n",
       "1 2021-09-26 23:53:00  \n",
       "2 2021-09-26 23:46:00  \n",
       "3 2021-09-26 23:38:00  \n",
       "4 2021-09-26 23:29:00  "
      ]
     },
     "execution_count": 7,
     "metadata": {},
     "output_type": "execute_result"
    }
   ],
   "source": [
    "df.head()"
   ]
  },
  {
   "cell_type": "markdown",
   "id": "966b019a",
   "metadata": {},
   "source": [
    "## 1. What is the dataset's approval rate by quarter?"
   ]
  },
  {
   "cell_type": "code",
   "execution_count": 8,
   "id": "31e427ab",
   "metadata": {},
   "outputs": [
    {
     "name": "stdout",
     "output_type": "stream",
     "text": [
      "The deposit approval rate in Q4 2020 is: 62.85987890769801%\n",
      "The deposit approval rate in Q1 2021 is: 61.48135359116023%\n",
      "The deposit approval rate in Q2 2021 is: 60.33705932932072%\n",
      "The deposit approval rate in Q3 2021 is: 59.422258768009726%\n"
     ]
    }
   ],
   "source": [
    "# First separate the dataframe into fiscal quarters\n",
    "\n",
    "q4_2020 = df.loc[(df['Attempt Timestamp'] >= '2020-10-01') & (df['Attempt Timestamp'] < '2021-01-01')]\n",
    "q1_2021 = df.loc[(df['Attempt Timestamp'] >= '2021-01-01') & (df['Attempt Timestamp'] < '2021-04-01')]\n",
    "q2_2021 = df.loc[(df['Attempt Timestamp'] >= '2021-04-01') & (df['Attempt Timestamp'] < '2021-07-01')]\n",
    "q3_2021 = df.loc[(df['Attempt Timestamp'] >= '2021-07-01') & (df['Attempt Timestamp'] < '2021-10-01')]\n",
    "\n",
    "# Then calculate how many times 1 appears in the approved columns and divide by the total number of rows\n",
    "\n",
    "print(\"The deposit approval rate in Q4 2020 is: \" + str(q4_2020['Appr?'].value_counts()[1] / len(q4_2020) * 100) + \"%\")\n",
    "print(\"The deposit approval rate in Q1 2021 is: \" + str(q1_2021['Appr?'].value_counts()[1] / len(q1_2021) * 100) + \"%\")\n",
    "print(\"The deposit approval rate in Q2 2021 is: \" + str(q2_2021['Appr?'].value_counts()[1] / len(q2_2021) * 100) + \"%\")\n",
    "print(\"The deposit approval rate in Q3 2021 is: \" + str(q3_2021['Appr?'].value_counts()[1] / len(q3_2021) * 100) + \"%\")"
   ]
  },
  {
   "cell_type": "markdown",
   "id": "b3a8b466",
   "metadata": {},
   "source": [
    "## 2. How many customers attempted a deposit of $50 in Sept 2021?"
   ]
  },
  {
   "cell_type": "code",
   "execution_count": 9,
   "id": "9cef120b",
   "metadata": {},
   "outputs": [
    {
     "name": "stdout",
     "output_type": "stream",
     "text": [
      "2170 customers attempted a deposit of $50 in Sept 2021\n"
     ]
    }
   ],
   "source": [
    "# Filter the dataframe for the month of September 2021 then filter again for how many people attempted a deposit of $50 \n",
    "\n",
    "sep21 = df.loc[(df['Attempt Timestamp'] >= '2021-09-01') & (df['Attempt Timestamp'] < '2021-10-01') & (df['Amount'] == 50)]\n",
    "\n",
    "print(str(len(sep21)) + \" customers attempted a deposit of $50 in Sept 2021\")"
   ]
  },
  {
   "cell_type": "markdown",
   "id": "74fd83f2",
   "metadata": {},
   "source": [
    "## 3. How much did the group identified in QUESTION 2 successfully deposit during the month?"
   ]
  },
  {
   "cell_type": "code",
   "execution_count": 10,
   "id": "34584d8a",
   "metadata": {},
   "outputs": [
    {
     "name": "stdout",
     "output_type": "stream",
     "text": [
      "1359 people successfully deposited $50 in September 2021\n",
      "Therefore 1359 * 50 = 67950 was successfully deposited\n"
     ]
    }
   ],
   "source": [
    "print(str(sep21['Appr?'].value_counts()[1]) + \" people successfully deposited $50 in September 2021\")\n",
    "\n",
    "print(\"Therefore 1359 * 50 = \" + str(1359*50) + \" was successfully deposited\")"
   ]
  },
  {
   "cell_type": "markdown",
   "id": "47c0339f",
   "metadata": {},
   "source": [
    "## 4. Of the 10 issuing banks with the most deposit attempts between 150.00 and 999.99 in 2021, which had the highest approval rate?"
   ]
  },
  {
   "cell_type": "code",
   "execution_count": 11,
   "id": "50331b6d",
   "metadata": {},
   "outputs": [
    {
     "data": {
      "text/html": [
       "<div>\n",
       "<style scoped>\n",
       "    .dataframe tbody tr th:only-of-type {\n",
       "        vertical-align: middle;\n",
       "    }\n",
       "\n",
       "    .dataframe tbody tr th {\n",
       "        vertical-align: top;\n",
       "    }\n",
       "\n",
       "    .dataframe thead th {\n",
       "        text-align: right;\n",
       "    }\n",
       "</style>\n",
       "<table border=\"1\" class=\"dataframe\">\n",
       "  <thead>\n",
       "    <tr style=\"text-align: right;\">\n",
       "      <th></th>\n",
       "      <th>bank</th>\n",
       "      <th>deposits_attempted</th>\n",
       "    </tr>\n",
       "  </thead>\n",
       "  <tbody>\n",
       "    <tr>\n",
       "      <th>72</th>\n",
       "      <td>BANK1000</td>\n",
       "      <td>3654</td>\n",
       "    </tr>\n",
       "    <tr>\n",
       "      <th>257</th>\n",
       "      <td>BANK1002</td>\n",
       "      <td>2804</td>\n",
       "    </tr>\n",
       "    <tr>\n",
       "      <th>51</th>\n",
       "      <td>BANK1001</td>\n",
       "      <td>1846</td>\n",
       "    </tr>\n",
       "    <tr>\n",
       "      <th>175</th>\n",
       "      <td>BANK1004</td>\n",
       "      <td>896</td>\n",
       "    </tr>\n",
       "    <tr>\n",
       "      <th>361</th>\n",
       "      <td>BANK1010</td>\n",
       "      <td>667</td>\n",
       "    </tr>\n",
       "    <tr>\n",
       "      <th>426</th>\n",
       "      <td>BANK1013</td>\n",
       "      <td>581</td>\n",
       "    </tr>\n",
       "    <tr>\n",
       "      <th>172</th>\n",
       "      <td>BANK1006</td>\n",
       "      <td>389</td>\n",
       "    </tr>\n",
       "    <tr>\n",
       "      <th>17</th>\n",
       "      <td>BANK1019</td>\n",
       "      <td>345</td>\n",
       "    </tr>\n",
       "    <tr>\n",
       "      <th>98</th>\n",
       "      <td>BANK1017</td>\n",
       "      <td>293</td>\n",
       "    </tr>\n",
       "    <tr>\n",
       "      <th>341</th>\n",
       "      <td>BANK1003</td>\n",
       "      <td>283</td>\n",
       "    </tr>\n",
       "  </tbody>\n",
       "</table>\n",
       "</div>"
      ],
      "text/plain": [
       "         bank  deposits_attempted\n",
       "72   BANK1000                3654\n",
       "257  BANK1002                2804\n",
       "51   BANK1001                1846\n",
       "175  BANK1004                 896\n",
       "361  BANK1010                 667\n",
       "426  BANK1013                 581\n",
       "172  BANK1006                 389\n",
       "17   BANK1019                 345\n",
       "98   BANK1017                 293\n",
       "341  BANK1003                 283"
      ]
     },
     "execution_count": 11,
     "metadata": {},
     "output_type": "execute_result"
    }
   ],
   "source": [
    "#First filter the dataframe into 2021 and deposits between 150 and 999.99\n",
    "\n",
    "df_21 = df.loc[(df['Attempt Timestamp'] >= '2020-12-31') & (df['Attempt Timestamp'] < '2022-01-01') \n",
    "               & (df['Amount'] > 150.00) & (df['Amount'] < 999.99)]\n",
    "\n",
    "# Make new dataframe for banks and how many deposits were made in 2021 in each bank and then filter the top 10 out\n",
    "\n",
    "banks = pd.DataFrame(data=set(list(df_21['Issuing Bank'])), columns=['bank'])\n",
    "\n",
    "deposit_attempts = []\n",
    "\n",
    "for i in list(banks.bank):\n",
    "    x = len(df_21.loc[df_21['Issuing Bank'] == i])\n",
    "    deposit_attempts.append(x)\n",
    "        \n",
    "banks['deposits_attempted'] = deposit_attempts\n",
    "\n",
    "banks = banks.sort_values('deposits_attempted', ascending=False)\n",
    "top_10 = banks.head(10)\n",
    "top_10"
   ]
  },
  {
   "cell_type": "code",
   "execution_count": 12,
   "id": "4728ddb8",
   "metadata": {},
   "outputs": [
    {
     "data": {
      "text/html": [
       "<div>\n",
       "<style scoped>\n",
       "    .dataframe tbody tr th:only-of-type {\n",
       "        vertical-align: middle;\n",
       "    }\n",
       "\n",
       "    .dataframe tbody tr th {\n",
       "        vertical-align: top;\n",
       "    }\n",
       "\n",
       "    .dataframe thead th {\n",
       "        text-align: right;\n",
       "    }\n",
       "</style>\n",
       "<table border=\"1\" class=\"dataframe\">\n",
       "  <thead>\n",
       "    <tr style=\"text-align: right;\">\n",
       "      <th></th>\n",
       "      <th>bank</th>\n",
       "      <th>deposits_attempted</th>\n",
       "      <th>deposit_success_rate</th>\n",
       "    </tr>\n",
       "  </thead>\n",
       "  <tbody>\n",
       "    <tr>\n",
       "      <th>72</th>\n",
       "      <td>BANK1000</td>\n",
       "      <td>3654</td>\n",
       "      <td>0.594691</td>\n",
       "    </tr>\n",
       "    <tr>\n",
       "      <th>257</th>\n",
       "      <td>BANK1002</td>\n",
       "      <td>2804</td>\n",
       "      <td>0.691512</td>\n",
       "    </tr>\n",
       "    <tr>\n",
       "      <th>51</th>\n",
       "      <td>BANK1001</td>\n",
       "      <td>1846</td>\n",
       "      <td>0.524377</td>\n",
       "    </tr>\n",
       "    <tr>\n",
       "      <th>175</th>\n",
       "      <td>BANK1004</td>\n",
       "      <td>896</td>\n",
       "      <td>0.487723</td>\n",
       "    </tr>\n",
       "    <tr>\n",
       "      <th>361</th>\n",
       "      <td>BANK1010</td>\n",
       "      <td>667</td>\n",
       "      <td>0.601199</td>\n",
       "    </tr>\n",
       "    <tr>\n",
       "      <th>426</th>\n",
       "      <td>BANK1013</td>\n",
       "      <td>581</td>\n",
       "      <td>0.383821</td>\n",
       "    </tr>\n",
       "    <tr>\n",
       "      <th>172</th>\n",
       "      <td>BANK1006</td>\n",
       "      <td>389</td>\n",
       "      <td>0.498715</td>\n",
       "    </tr>\n",
       "    <tr>\n",
       "      <th>17</th>\n",
       "      <td>BANK1019</td>\n",
       "      <td>345</td>\n",
       "      <td>0.539130</td>\n",
       "    </tr>\n",
       "    <tr>\n",
       "      <th>98</th>\n",
       "      <td>BANK1017</td>\n",
       "      <td>293</td>\n",
       "      <td>0.395904</td>\n",
       "    </tr>\n",
       "    <tr>\n",
       "      <th>341</th>\n",
       "      <td>BANK1003</td>\n",
       "      <td>283</td>\n",
       "      <td>0.367491</td>\n",
       "    </tr>\n",
       "  </tbody>\n",
       "</table>\n",
       "</div>"
      ],
      "text/plain": [
       "         bank  deposits_attempted  deposit_success_rate\n",
       "72   BANK1000                3654              0.594691\n",
       "257  BANK1002                2804              0.691512\n",
       "51   BANK1001                1846              0.524377\n",
       "175  BANK1004                 896              0.487723\n",
       "361  BANK1010                 667              0.601199\n",
       "426  BANK1013                 581              0.383821\n",
       "172  BANK1006                 389              0.498715\n",
       "17   BANK1019                 345              0.539130\n",
       "98   BANK1017                 293              0.395904\n",
       "341  BANK1003                 283              0.367491"
      ]
     },
     "execution_count": 12,
     "metadata": {},
     "output_type": "execute_result"
    }
   ],
   "source": [
    "# Take the top ten banks and then calculate the deposit success rate\n",
    "\n",
    "success_rate = []\n",
    "\n",
    "for i in list(top_10.bank):\n",
    "    bank_df = df_21.loc[df_21['Issuing Bank'] == i]\n",
    "    x = bank_df['Appr?'].value_counts()[1] / len(bank_df)\n",
    "    success_rate.append(x)\n",
    "    \n",
    "    \n",
    "top_10['deposit_success_rate'] = success_rate\n",
    "\n",
    "top_10"
   ]
  },
  {
   "cell_type": "markdown",
   "id": "d3f00221",
   "metadata": {},
   "source": [
    "#### It can be seen that BANK 1002 has the highest approval rates in 2021 for the banks with the top 10 most deposits"
   ]
  },
  {
   "cell_type": "markdown",
   "id": "8c40f0d0",
   "metadata": {},
   "source": [
    "## 5. Without performing any analysis, which two parameters would you suspect of causing the successive quarterly decrease in approval rate? Why?"
   ]
  },
  {
   "cell_type": "markdown",
   "id": "28c67349",
   "metadata": {},
   "source": [
    "- I would suspect Processing Co to have an impact in causing the successive quarterly decrease because as mentioned, this also includes some fraud risk filters and if we were to assume those fraud risk filters have been improved over the quarters, the approval rates would decrease as more fraud attempts would be caught.\n",
    "\n",
    "- The other factor I would suspect is Customer ID as it could be that fraud detection services caught certain depositors as fraud who came back in later quarters to try and deposit again but were declined. So it can be assumed that the number of people that tried to fraud the banks were detected and then turned down again in the future i.e as time passes more fraudulent attempts are detected."
   ]
  },
  {
   "cell_type": "markdown",
   "id": "35ed0dee",
   "metadata": {},
   "source": [
    "## 6. Identify and describe two main causal factors of the decline in approval rates seen in Q3 2021 vs Q4 2020? "
   ]
  },
  {
   "cell_type": "code",
   "execution_count": 13,
   "id": "b51cf68b",
   "metadata": {},
   "outputs": [
    {
     "data": {
      "text/html": [
       "<div>\n",
       "<style scoped>\n",
       "    .dataframe tbody tr th:only-of-type {\n",
       "        vertical-align: middle;\n",
       "    }\n",
       "\n",
       "    .dataframe tbody tr th {\n",
       "        vertical-align: top;\n",
       "    }\n",
       "\n",
       "    .dataframe thead th {\n",
       "        text-align: right;\n",
       "    }\n",
       "</style>\n",
       "<table border=\"1\" class=\"dataframe\">\n",
       "  <thead>\n",
       "    <tr style=\"text-align: right;\">\n",
       "      <th></th>\n",
       "      <th>Appr?</th>\n",
       "      <th>CustomerID</th>\n",
       "      <th>Co Website</th>\n",
       "      <th>Processing Co</th>\n",
       "      <th>Amount</th>\n",
       "    </tr>\n",
       "  </thead>\n",
       "  <tbody>\n",
       "    <tr>\n",
       "      <th>Appr?</th>\n",
       "      <td>1.000000</td>\n",
       "      <td>-0.259612</td>\n",
       "      <td>-0.097519</td>\n",
       "      <td>-0.075238</td>\n",
       "      <td>-0.081372</td>\n",
       "    </tr>\n",
       "    <tr>\n",
       "      <th>CustomerID</th>\n",
       "      <td>-0.259612</td>\n",
       "      <td>1.000000</td>\n",
       "      <td>0.181478</td>\n",
       "      <td>0.412258</td>\n",
       "      <td>0.002935</td>\n",
       "    </tr>\n",
       "    <tr>\n",
       "      <th>Co Website</th>\n",
       "      <td>-0.097519</td>\n",
       "      <td>0.181478</td>\n",
       "      <td>1.000000</td>\n",
       "      <td>0.079047</td>\n",
       "      <td>-0.066826</td>\n",
       "    </tr>\n",
       "    <tr>\n",
       "      <th>Processing Co</th>\n",
       "      <td>-0.075238</td>\n",
       "      <td>0.412258</td>\n",
       "      <td>0.079047</td>\n",
       "      <td>1.000000</td>\n",
       "      <td>-0.054717</td>\n",
       "    </tr>\n",
       "    <tr>\n",
       "      <th>Amount</th>\n",
       "      <td>-0.081372</td>\n",
       "      <td>0.002935</td>\n",
       "      <td>-0.066826</td>\n",
       "      <td>-0.054717</td>\n",
       "      <td>1.000000</td>\n",
       "    </tr>\n",
       "  </tbody>\n",
       "</table>\n",
       "</div>"
      ],
      "text/plain": [
       "                  Appr?  CustomerID  Co Website  Processing Co    Amount\n",
       "Appr?          1.000000   -0.259612   -0.097519      -0.075238 -0.081372\n",
       "CustomerID    -0.259612    1.000000    0.181478       0.412258  0.002935\n",
       "Co Website    -0.097519    0.181478    1.000000       0.079047 -0.066826\n",
       "Processing Co -0.075238    0.412258    0.079047       1.000000 -0.054717\n",
       "Amount        -0.081372    0.002935   -0.066826      -0.054717  1.000000"
      ]
     },
     "execution_count": 13,
     "metadata": {},
     "output_type": "execute_result"
    }
   ],
   "source": [
    "corr = df.corr()\n",
    "corr"
   ]
  },
  {
   "cell_type": "markdown",
   "id": "67b16bf0",
   "metadata": {},
   "source": [
    "- The correlation chart shows that the Customer ID and Co Website variables are most strongly correlated to the Appr? column. However, the correlation coeffcients are not very strong."
   ]
  },
  {
   "cell_type": "code",
   "execution_count": 24,
   "id": "885a1f98",
   "metadata": {},
   "outputs": [],
   "source": [
    "from scipy.stats import linregress"
   ]
  },
  {
   "cell_type": "code",
   "execution_count": 35,
   "id": "1bcb4a66",
   "metadata": {},
   "outputs": [
    {
     "name": "stdout",
     "output_type": "stream",
     "text": [
      "AMOUNT: LinregressResult(slope=-38.20559801049232, intercept=159.5591652688906, rvalue=-0.08137160669805188, pvalue=2.0933819366779605e-181, stderr=1.3280263158779342)\n",
      "CUSTOMER ID: LinregressResult(slope=-8478.682629874178, intercept=127949.66863390693, rvalue=-0.259612163260634, pvalue=0.0, stderr=89.50484830607982)\n",
      "CO WEBSITE: LinregressResult(slope=-0.5781505062504221, intercept=16.03383653268725, rvalue=-0.09751858107377644, pvalue=5.323981213447057e-260, stderr=0.016744561122611103)\n",
      "PROCESSING CO: LinregressResult(slope=-5.506182835668768, intercept=145.96808929200054, rvalue=-0.07523799568524463, pvalue=2.5987487271420768e-155, stderr=0.2070979776091174)\n"
     ]
    }
   ],
   "source": [
    "print(\"AMOUNT: \" + str(linregress(df['Appr?'], df['Amount'])))\n",
    "print(\"CUSTOMER ID: \" + str(linregress(df['Appr?'], df['CustomerID'])))\n",
    "print(\"CO WEBSITE: \" + str(linregress(df['Appr?'], df['Co Website'])))\n",
    "print(\"PROCESSING CO: \" + str(linregress(df['Appr?'], df['Processing Co'])))"
   ]
  },
  {
   "cell_type": "markdown",
   "id": "8fc79146",
   "metadata": {},
   "source": [
    "- As we can see from quick linear regression results, only the p-value for Customer ID is significant and can be argued that it plays the biggest role in the approval rate out of the factors. Co Website is the second biggest factor but since the p-value is not significant, it cannot be clearly determined.\n",
    "\n",
    "- It is also worth noting that these are assumptions as it is impossible to accurately determine causation just from raw data without any additional knowledge as there is no way to know if some external variable plays a causative role in the observations."
   ]
  },
  {
   "cell_type": "markdown",
   "id": "c77d8522",
   "metadata": {},
   "source": [
    "## 7. Choose one of the main factors identified in QUESTION 6. How much of the approval rate decline seen in Q3 2021 vs Q4 2020 is explained by this factor?"
   ]
  },
  {
   "cell_type": "markdown",
   "id": "b43afd10",
   "metadata": {},
   "source": [
    "- Looking at the correlation matrix and linear regression results from above, it can be argued that a big portion of the decline in approval rate can be explained by the Customer ID parameter of the dataset. This is in relation to the other parameters as shown by the correlation coefficients of each paramater. As Customer ID has the highest correlation coefficient, it can be argued that it is the biggest factor in affecting the approval rate."
   ]
  },
  {
   "cell_type": "markdown",
   "id": "c8806dfb",
   "metadata": {},
   "source": [
    "## 8. If you had more time, which other analyses would you like to perform on this dataset to identify additional causal factors to those identified in QUESTION 6."
   ]
  },
  {
   "cell_type": "markdown",
   "id": "2081752e",
   "metadata": {},
   "source": [
    "- If I had more time, I would look into A/B testing. The way causation is proved is through a specific experimental setting. So its the design of the experiment that allows collecting data susceptible to prove causation. So for this situation, we can try testing which column has the highest effect on the approval rates per quarter using a representative sample for each quarter. So we can divide up the dataset of each quarter and randomly split the group into two subsets. The first group is assigned a specific set of Issuing Banks (just for example) and the second group is allocated the issuing banks as normal. At the end of the experiment one can prove causation if and only if the second group shows a significantly different outcome compared to the control group.\n",
    "\n",
    "- Furthermore given more time, Bayesian Structure Learning can be used to identify causation as well through directed acrylic graphs (DAGs). With structure learning we can determine the structure of the graph that best determines the causal dependencies between variables in the dataset."
   ]
  }
 ],
 "metadata": {
  "kernelspec": {
   "display_name": "Python 3",
   "language": "python",
   "name": "python3"
  },
  "language_info": {
   "codemirror_mode": {
    "name": "ipython",
    "version": 3
   },
   "file_extension": ".py",
   "mimetype": "text/x-python",
   "name": "python",
   "nbconvert_exporter": "python",
   "pygments_lexer": "ipython3",
   "version": "3.8.5"
  }
 },
 "nbformat": 4,
 "nbformat_minor": 5
}
